{
 "cells": [
  {
   "cell_type": "code",
   "execution_count": 1,
   "id": "59a37d4a",
   "metadata": {},
   "outputs": [
    {
     "name": "stdout",
     "output_type": "stream",
     "text": [
      "The start of Optimisation HW1!\n",
      "These are not the droids you're looking for\n"
     ]
    }
   ],
   "source": [
    "print(\"The start of Optimisation HW1!\")\n",
    "\n",
    "print(\"These are not the droids you're looking for\")"
   ]
  }
 ],
 "metadata": {
  "kernelspec": {
   "display_name": "Python 3",
   "language": "python",
   "name": "python3"
  },
  "language_info": {
   "codemirror_mode": {
    "name": "ipython",
    "version": 3
   },
   "file_extension": ".py",
   "mimetype": "text/x-python",
   "name": "python",
   "nbconvert_exporter": "python",
   "pygments_lexer": "ipython3",
   "version": "3.13.0"
  }
 },
 "nbformat": 4,
 "nbformat_minor": 5
}
